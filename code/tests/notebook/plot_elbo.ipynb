{
 "cells": [
  {
   "cell_type": "code",
   "execution_count": 1,
   "metadata": {
    "vscode": {
     "languageId": "r"
    }
   },
   "outputs": [
    {
     "name": "stderr",
     "output_type": "stream",
     "text": [
      "Loading required package: spam\n",
      "\n",
      "Loading required package: dotCall64\n",
      "\n",
      "Loading required package: grid\n",
      "\n",
      "Spam version 2.7-0 (2021-06-25) is loaded.\n",
      "Type 'help( Spam)' or 'demo( spam)' for a short introduction \n",
      "and overview of this package.\n",
      "Help for individual functions is also obtained by adding the\n",
      "suffix '.spam' to the function name, e.g. 'help( chol.spam)'.\n",
      "\n",
      "\n",
      "Attaching package: 'spam'\n",
      "\n",
      "\n",
      "The following objects are masked from 'package:base':\n",
      "\n",
      "    backsolve, forwardsolve\n",
      "\n",
      "\n",
      "Loading required package: viridis\n",
      "\n",
      "Loading required package: viridisLite\n",
      "\n",
      "\n",
      "Try help(fields) to get started.\n",
      "\n",
      "Loading required package: Matrix\n",
      "\n",
      "\n",
      "Attaching package: 'Matrix'\n",
      "\n",
      "\n",
      "The following object is masked from 'package:spam':\n",
      "\n",
      "    det\n",
      "\n",
      "\n",
      "The following objects are masked from 'package:pracma':\n",
      "\n",
      "    expm, lu, tril, triu\n",
      "\n",
      "\n",
      "Loading required package: splines\n",
      "\n",
      "Loading required package: fds\n",
      "\n",
      "Loading required package: rainbow\n",
      "\n",
      "Loading required package: MASS\n",
      "\n",
      "Loading required package: pcaPP\n",
      "\n",
      "Loading required package: RCurl\n",
      "\n",
      "Loading required package: deSolve\n",
      "\n",
      "\n",
      "Attaching package: 'deSolve'\n",
      "\n",
      "\n",
      "The following object is masked from 'package:pracma':\n",
      "\n",
      "    rk4\n",
      "\n",
      "\n",
      "\n",
      "Attaching package: 'fda'\n",
      "\n",
      "\n",
      "The following object is masked from 'package:graphics':\n",
      "\n",
      "    matplot\n",
      "\n",
      "\n",
      "\n",
      "Attaching package: 'mvtnorm'\n",
      "\n",
      "\n",
      "The following object is masked from 'package:spam':\n",
      "\n",
      "    rmvnorm\n",
      "\n",
      "\n",
      "R.matlab v3.6.2 (2018-09-26) successfully loaded. See ?R.matlab for help.\n",
      "\n",
      "\n",
      "Attaching package: 'R.matlab'\n",
      "\n",
      "\n",
      "The following objects are masked from 'package:base':\n",
      "\n",
      "    getOption, isOpen\n",
      "\n",
      "\n"
     ]
    }
   ],
   "source": [
    "library(pracma)\n",
    "library(matrixcalc)\n",
    "library(fields)\n",
    "library(wordspace)\n",
    "library(Matrix)\n",
    "#load source file\n",
    "src.path <- \"../../src\"\n",
    "\n",
    "source(paste(src.path, \"DataGenerationProcess\", \"synth_basis.R\", sep=\"/\"))\n",
    "source(paste(src.path, \"DataGenerationProcess\", \"synth_data.R\", sep=\"/\"))\n",
    "source(paste(src.path, \"DataGenerationProcess\", \"synth_graph.R\", sep=\"/\"))\n",
    "source(paste(src.path, \"DataGenerationProcess\", \"synth_linearop.R\", sep=\"/\"))\n",
    "\n",
    "source(paste(src.path, \"Estimation\", \"basis_estimation.R\", sep=\"/\"))\n",
    "source(paste(src.path, \"Utility\", \"utility.R\", sep=\"/\"))\n",
    "source(paste(src.path, \"Estimation\", \"cca_estimation.R\", sep=\"/\"))\n",
    "source(paste(src.path, \"Utility\", \"R2python.R\", sep=\"/\"))\n",
    "\n"
   ]
  },
  {
   "cell_type": "code",
   "execution_count": 90,
   "metadata": {
    "vscode": {
     "languageId": "r"
    }
   },
   "outputs": [
    {
     "name": "stdout",
     "output_type": "stream",
     "text": [
      "[1] \"N= 100 p= 150\"\n"
     ]
    },
    {
     "name": "stderr",
     "output_type": "stream",
     "text": [
      "Warning message in rmvnorm(n, rep(0, kp), cov):\n",
      "\"sigma is numerically not positive semidefinite\"\n"
     ]
    },
    {
     "name": "stdout",
     "output_type": "stream",
     "text": [
      "[1] \"Generating data from modality 1\"\n",
      "[1] \"Generating data from modality 2\"\n",
      "[1] \"canonical correlation values:\"\n",
      " [1]  9.989134e-01  9.986811e-01  9.982118e-01  9.976126e-01  9.956980e-01\n",
      " [6]  9.939287e-01  9.926462e-01  9.914920e-01  9.886481e-01  1.985621e-15\n",
      "[11]  1.947099e-17  1.373227e-17  9.971689e-18 -1.900957e-18 -8.161180e-18\n",
      "[16] -1.231559e-17 -6.663536e-16\n",
      "[1] \"N= 100 p= 150\"\n"
     ]
    },
    {
     "name": "stderr",
     "output_type": "stream",
     "text": [
      "Warning message in rmvnorm(n, rep(0, kp), cov):\n",
      "\"sigma is numerically not positive semidefinite\"\n"
     ]
    },
    {
     "name": "stdout",
     "output_type": "stream",
     "text": [
      "[1] \"Generating data from modality 1\"\n",
      "[1] \"Generating data from modality 2\"\n",
      "[1] \"canonical correlation values:\"\n",
      " [1]  9.989134e-01  9.986811e-01  9.982118e-01  9.976126e-01  9.956980e-01\n",
      " [6]  9.939287e-01  9.926462e-01  9.914920e-01  9.886481e-01  1.985621e-15\n",
      "[11]  1.947099e-17  1.373227e-17  9.971689e-18 -1.900957e-18 -8.161180e-18\n",
      "[16] -1.231559e-17 -6.663536e-16\n",
      "[1] \"N= 100 p= 150\"\n"
     ]
    },
    {
     "name": "stderr",
     "output_type": "stream",
     "text": [
      "Warning message in rmvnorm(n, rep(0, kp), cov):\n",
      "\"sigma is numerically not positive semidefinite\"\n"
     ]
    },
    {
     "name": "stdout",
     "output_type": "stream",
     "text": [
      "[1] \"Generating data from modality 1\"\n",
      "[1] \"Generating data from modality 2\"\n",
      "[1] \"canonical correlation values:\"\n",
      " [1]  9.989134e-01  9.986811e-01  9.982118e-01  9.976126e-01  9.956980e-01\n",
      " [6]  9.939287e-01  9.926462e-01  9.914920e-01  9.886481e-01  1.985621e-15\n",
      "[11]  1.947099e-17  1.373227e-17  9.971689e-18 -1.900957e-18 -8.161180e-18\n",
      "[16] -1.231559e-17 -6.663536e-16\n",
      "[1] \"N= 100 p= 150\"\n"
     ]
    },
    {
     "name": "stderr",
     "output_type": "stream",
     "text": [
      "Warning message in rmvnorm(n, rep(0, kp), cov):\n",
      "\"sigma is numerically not positive semidefinite\"\n"
     ]
    },
    {
     "name": "stdout",
     "output_type": "stream",
     "text": [
      "[1] \"Generating data from modality 1\"\n",
      "[1] \"Generating data from modality 2\"\n",
      "[1] \"canonical correlation values:\"\n",
      " [1]  9.989134e-01  9.986811e-01  9.982118e-01  9.976126e-01  9.956980e-01\n",
      " [6]  9.939287e-01  9.926462e-01  9.914920e-01  9.886481e-01  1.985621e-15\n",
      "[11]  1.947099e-17  1.373227e-17  9.971689e-18 -1.900957e-18 -8.161180e-18\n",
      "[16] -1.231559e-17 -6.663536e-16\n",
      "[1] \"N= 100 p= 150\"\n"
     ]
    },
    {
     "name": "stderr",
     "output_type": "stream",
     "text": [
      "Warning message in rmvnorm(n, rep(0, kp), cov):\n",
      "\"sigma is numerically not positive semidefinite\"\n"
     ]
    },
    {
     "name": "stdout",
     "output_type": "stream",
     "text": [
      "[1] \"Generating data from modality 1\"\n",
      "[1] \"Generating data from modality 2\"\n",
      "[1] \"canonical correlation values:\"\n",
      " [1]  9.989134e-01  9.986811e-01  9.982118e-01  9.976126e-01  9.956980e-01\n",
      " [6]  9.939287e-01  9.926462e-01  9.914920e-01  9.886481e-01  1.985621e-15\n",
      "[11]  1.947099e-17  1.373227e-17  9.971689e-18 -1.900957e-18 -8.161180e-18\n",
      "[16] -1.231559e-17 -6.663536e-16\n",
      "[1] \"N= 100 p= 150\"\n"
     ]
    },
    {
     "name": "stderr",
     "output_type": "stream",
     "text": [
      "Warning message in rmvnorm(n, rep(0, kp), cov):\n",
      "\"sigma is numerically not positive semidefinite\"\n"
     ]
    },
    {
     "name": "stdout",
     "output_type": "stream",
     "text": [
      "[1] \"Generating data from modality 1\"\n",
      "[1] \"Generating data from modality 2\"\n",
      "[1] \"canonical correlation values:\"\n",
      " [1]  9.989134e-01  9.986811e-01  9.982118e-01  9.976126e-01  9.956980e-01\n",
      " [6]  9.939287e-01  9.926462e-01  9.914920e-01  9.886481e-01  1.985621e-15\n",
      "[11]  1.947099e-17  1.373227e-17  9.971689e-18 -1.900957e-18 -8.161180e-18\n",
      "[16] -1.231559e-17 -6.663536e-16\n",
      "[1] \"N= 100 p= 150\"\n"
     ]
    },
    {
     "name": "stderr",
     "output_type": "stream",
     "text": [
      "Warning message in rmvnorm(n, rep(0, kp), cov):\n",
      "\"sigma is numerically not positive semidefinite\"\n"
     ]
    },
    {
     "name": "stdout",
     "output_type": "stream",
     "text": [
      "[1] \"Generating data from modality 1\"\n",
      "[1] \"Generating data from modality 2\"\n",
      "[1] \"canonical correlation values:\"\n",
      " [1]  9.989134e-01  9.986811e-01  9.982118e-01  9.976126e-01  9.956980e-01\n",
      " [6]  9.939287e-01  9.926462e-01  9.914920e-01  9.886481e-01  1.985621e-15\n",
      "[11]  1.947099e-17  1.373227e-17  9.971689e-18 -1.900957e-18 -8.161180e-18\n",
      "[16] -1.231559e-17 -6.663536e-16\n",
      "[1] \"N= 100 p= 150\"\n"
     ]
    },
    {
     "name": "stderr",
     "output_type": "stream",
     "text": [
      "Warning message in rmvnorm(n, rep(0, kp), cov):\n",
      "\"sigma is numerically not positive semidefinite\"\n"
     ]
    },
    {
     "name": "stdout",
     "output_type": "stream",
     "text": [
      "[1] \"Generating data from modality 1\"\n",
      "[1] \"Generating data from modality 2\"\n",
      "[1] \"canonical correlation values:\"\n",
      " [1]  9.989134e-01  9.986811e-01  9.982118e-01  9.976126e-01  9.956980e-01\n",
      " [6]  9.939287e-01  9.926462e-01  9.914920e-01  9.886481e-01  1.985621e-15\n",
      "[11]  1.947099e-17  1.373227e-17  9.971689e-18 -1.900957e-18 -8.161180e-18\n",
      "[16] -1.231559e-17 -6.663536e-16\n",
      "[1] \"N= 100 p= 150\"\n"
     ]
    },
    {
     "name": "stderr",
     "output_type": "stream",
     "text": [
      "Warning message in rmvnorm(n, rep(0, kp), cov):\n",
      "\"sigma is numerically not positive semidefinite\"\n"
     ]
    },
    {
     "name": "stdout",
     "output_type": "stream",
     "text": [
      "[1] \"Generating data from modality 1\"\n",
      "[1] \"Generating data from modality 2\"\n",
      "[1] \"canonical correlation values:\"\n",
      " [1]  9.989134e-01  9.986811e-01  9.982118e-01  9.976126e-01  9.956980e-01\n",
      " [6]  9.939287e-01  9.926462e-01  9.914920e-01  9.886481e-01  1.985621e-15\n",
      "[11]  1.947099e-17  1.373227e-17  9.971689e-18 -1.900957e-18 -8.161180e-18\n",
      "[16] -1.231559e-17 -6.663536e-16\n",
      "[1] \"N= 100 p= 150\"\n"
     ]
    },
    {
     "name": "stderr",
     "output_type": "stream",
     "text": [
      "Warning message in rmvnorm(n, rep(0, kp), cov):\n",
      "\"sigma is numerically not positive semidefinite\"\n"
     ]
    },
    {
     "name": "stdout",
     "output_type": "stream",
     "text": [
      "[1] \"Generating data from modality 1\"\n",
      "[1] \"Generating data from modality 2\"\n",
      "[1] \"canonical correlation values:\"\n",
      " [1]  9.989134e-01  9.986811e-01  9.982118e-01  9.976126e-01  9.956980e-01\n",
      " [6]  9.939287e-01  9.926462e-01  9.914920e-01  9.886481e-01  1.985621e-15\n",
      "[11]  1.947099e-17  1.373227e-17  9.971689e-18 -1.900957e-18 -8.161180e-18\n",
      "[16] -1.231559e-17 -6.663536e-16\n"
     ]
    }
   ],
   "source": [
    "\n",
    "cov_name <- 'power'\n",
    "path <- './'\n",
    "\n",
    "###specify parameters\n",
    "n <- 200\n",
    "p <- 150\n",
    "\n",
    "M <- 2\n",
    "obs.time <- seq(0,1,1/50)\n",
    "k.gen <- 9\n",
    "\n",
    "m1_arr <- matrix(0,nrow=10,ncol=8)\n",
    "m2_arr <- matrix(0,nrow=10,ncol=8)\n",
    "m_coor <- matrix(0,nrow=10,ncol=17)\n",
    "for (iter in seq(1:10)){\n",
    "for (n in c(100)){\n",
    "    for (p in c(150)){\n",
    "        ## be careful for the choice of the number of basis function \n",
    "## fourier basis: km must be odd\n",
    "## bspline basis km>4\n",
    "print(paste(\"N=\",n,\"p=\",p))\n",
    "km.gen <- c(k.gen,k.gen)\n",
    "\n",
    "Apinv_list <- list()\n",
    "A_list <- list()\n",
    "N_list <- list()\n",
    "basis.m_list <- list()\n",
    "true.basis_list <- list()\n",
    "true.values_list <- list()\n",
    "\n",
    "#generate data from the graph\n",
    "\n",
    "if (cov_name == \"random\"){\n",
    "    omega <- synth.omega.random(p, k.gen, drop=0.1)\n",
    "}\n",
    "if (cov_name == \"power\"){\n",
    "    omega <- synth.omega.power(p, k.gen)\n",
    "    omega <- solve(omega)\n",
    "}\n",
    "if (cov_name == \"tridiag1\"){\n",
    "    omega <- synth.omega.tridiag1(p, k.gen)\n",
    "}\n",
    "if (cov_name == \"tridiag2\"){\n",
    "    omega <- synth.omega.tridiag2(p, k.gen)\n",
    "}\n",
    "if (cov_name == \"tridiag3\"){\n",
    "    omega <- synth.omega.tridiag3(p, k.gen)\n",
    "}\n",
    "if (cov_name == \"tridiag4\"){\n",
    "    omega <- synth.omega.tridiag4(p, k.gen)\n",
    "\n",
    "}\n",
    "\n",
    "#ensure that the diagonal values are all 1\n",
    "\n",
    "G.true <- matrix(0, p, p) # p by p adjacency matrix\n",
    "for(i in 1:p){\n",
    "  for(j in 1:p){\n",
    "    if(sum(abs(omega[((i-1)*k.gen+1):(i*k.gen), ((j-1)*k.gen+1):(j*k.gen)])) > 0)\n",
    "      G.true[i,j] <- 1\n",
    "  }\n",
    "}\n",
    "\n",
    "cov <- solve(omega)\n",
    "\n",
    "\n",
    "for(m in 1:M){\n",
    "    Am <- synth.linear_op.sparse_orthogonal(k.gen, km.gen[m], k.gen, scale=.2)\n",
    "    Am <- t(t(Am) %*% diag(.2*((1:k.gen))+1)) #this is to make the singular values distinct\n",
    "\n",
    "    A_list[[m]] <- Am\n",
    "    Apinv_list[[m]] <- solve(Am)\n",
    "}\n",
    "\n",
    "for(m in 1:M){\n",
    "    \n",
    "    #noise covariance\n",
    "    N_list[[m]] <- diag(p*km.gen[m])*.05\n",
    "    basis.m_list[[m]] <- synth.fourier.bases.m(obs.time, km.gen[m])\n",
    "}\n",
    "\n",
    "#convert to regression B\n",
    "B_list <- utility.graph2B(omega,p)\n",
    "# save true graphs\n",
    "\n",
    "#generate data \n",
    "data <- synth.data_from_graph(n, p, cov, basis.m_list, Apinv_list,N_list, dependent=TRUE, addnoise=FALSE)\n",
    "\n",
    "##estimate A by CCA\n",
    "\n",
    "#data modality 1\n",
    "\n",
    "concate_data <- list()\n",
    "for(m in 1:M){\n",
    "        dm <- data[[m]][,1,]\n",
    "    for(i in 2:p){\n",
    "        dm <- rbind(dm, data[[m]][,p,])\n",
    "    }\n",
    "    concate_data[[m]] <- dm\n",
    "}\n",
    "\n",
    "#implement basis number selection\n",
    "\n",
    "for(m in 1:M){\n",
    "    sum_list <- list()\n",
    "    j <- 1\n",
    "    for( b in c(3, 5, 7, 9, 11, 13, 15, 17)){\n",
    "        \n",
    "        basis <- create.fourier.basis(rangeval=c(0, 1), nbasis=b)\n",
    "        sum.a <- 0\n",
    "        g.fdobj<-Data2fd(argvals=obs.time, t(concate_data[[m]]), basis)\n",
    "\n",
    "        for(i in 1:(dim(concate_data[[m]])[1])){\n",
    "            a <- sum(sqrt((eval.fd(obs.time, g.fdobj[i])- concate_data[[m]][i,])**2))/sum(concate_data[[m]][i,]**2)\n",
    "            sum.a <- sum.a+a\n",
    "        }\n",
    "        \n",
    "        sum_list <- append(sum_list,sum.a)\n",
    "    \n",
    "    if (m==1){\n",
    "       m1_arr[iter,j] <- sum.a\n",
    "    }\n",
    "    else{\n",
    "      m2_arr[iter,j] <- sum.a\n",
    "    }\n",
    "    j <- j+1\n",
    "    }\n",
    "}\n",
    "\n",
    "\n",
    "fourier.basis1 <- create.fourier.basis(rangeval=c(0,1), nbasis=17)\n",
    "d1 <-Data2fd(argvals=obs.time, y=t(data[[1]][,1,]), basisobj=fourier.basis1)\n",
    "#data modality 2\n",
    "fourier.basis2 <- create.fourier.basis(rangeval=c(0,1), nbasis=17)\n",
    "d2 <-Data2fd(argvals=obs.time, y=t(data[[2]][,1,]), basisobj=fourier.basis2)\n",
    "cca.r.est <- estimate.cca.basis_expansion(d1, d2, 9)\n",
    "\n",
    "m_coor[iter,] <- cca.r.est$cca\n",
    "}\n",
    "}\n",
    "}\n"
   ]
  },
  {
   "cell_type": "code",
   "execution_count": 91,
   "metadata": {
    "vscode": {
     "languageId": "r"
    }
   },
   "outputs": [],
   "source": [
    "mean_coor <- matrix(0, ncol=17)\n",
    "std_coor  <- matrix(0, ncol=17)\n",
    "for(i in seq(1:17)){\n",
    "    mean_coor[i] <- mean(m_coor[,i])\n",
    "    std_coor[i] <- std(m_coor[,i])\n",
    "}"
   ]
  },
  {
   "cell_type": "code",
   "execution_count": 92,
   "metadata": {
    "vscode": {
     "languageId": "r"
    }
   },
   "outputs": [
    {
     "data": {
      "text/html": [
       "<table class=\"dataframe\">\n",
       "<caption>A matrix: 1 × 17 of type dbl</caption>\n",
       "<tbody>\n",
       "\t<tr><td>0.9989134</td><td>0.9986811</td><td>0.9982118</td><td>0.9976126</td><td>0.995698</td><td>0.9939287</td><td>0.9926462</td><td>0.991492</td><td>0.9886481</td><td>1.985621e-15</td><td>1.947099e-17</td><td>1.373227e-17</td><td>9.971689e-18</td><td>-1.900957e-18</td><td>-8.16118e-18</td><td>-1.231559e-17</td><td>-6.663536e-16</td></tr>\n",
       "</tbody>\n",
       "</table>\n"
      ],
      "text/latex": [
       "A matrix: 1 × 17 of type dbl\n",
       "\\begin{tabular}{lllllllllllllllll}\n",
       "\t 0.9989134 & 0.9986811 & 0.9982118 & 0.9976126 & 0.995698 & 0.9939287 & 0.9926462 & 0.991492 & 0.9886481 & 1.985621e-15 & 1.947099e-17 & 1.373227e-17 & 9.971689e-18 & -1.900957e-18 & -8.16118e-18 & -1.231559e-17 & -6.663536e-16\\\\\n",
       "\\end{tabular}\n"
      ],
      "text/markdown": [
       "\n",
       "A matrix: 1 × 17 of type dbl\n",
       "\n",
       "| 0.9989134 | 0.9986811 | 0.9982118 | 0.9976126 | 0.995698 | 0.9939287 | 0.9926462 | 0.991492 | 0.9886481 | 1.985621e-15 | 1.947099e-17 | 1.373227e-17 | 9.971689e-18 | -1.900957e-18 | -8.16118e-18 | -1.231559e-17 | -6.663536e-16 |\n",
       "\n"
      ],
      "text/plain": [
       "     [,1]      [,2]      [,3]      [,4]      [,5]     [,6]      [,7]     \n",
       "[1,] 0.9989134 0.9986811 0.9982118 0.9976126 0.995698 0.9939287 0.9926462\n",
       "     [,8]     [,9]      [,10]        [,11]        [,12]        [,13]       \n",
       "[1,] 0.991492 0.9886481 1.985621e-15 1.947099e-17 1.373227e-17 9.971689e-18\n",
       "     [,14]         [,15]        [,16]         [,17]        \n",
       "[1,] -1.900957e-18 -8.16118e-18 -1.231559e-17 -6.663536e-16"
      ]
     },
     "metadata": {},
     "output_type": "display_data"
    }
   ],
   "source": [
    " mean_coor\n"
   ]
  },
  {
   "cell_type": "code",
   "execution_count": 93,
   "metadata": {
    "vscode": {
     "languageId": "r"
    }
   },
   "outputs": [
    {
     "data": {
      "text/html": [
       "<table class=\"dataframe\">\n",
       "<caption>A matrix: 1 × 17 of type dbl</caption>\n",
       "<tbody>\n",
       "\t<tr><td>0</td><td>0</td><td>0</td><td>0</td><td>0</td><td>0</td><td>0</td><td>0</td><td>0</td><td>0</td><td>0</td><td>0</td><td>0</td><td>0</td><td>0</td><td>0</td><td>0</td></tr>\n",
       "</tbody>\n",
       "</table>\n"
      ],
      "text/latex": [
       "A matrix: 1 × 17 of type dbl\n",
       "\\begin{tabular}{lllllllllllllllll}\n",
       "\t 0 & 0 & 0 & 0 & 0 & 0 & 0 & 0 & 0 & 0 & 0 & 0 & 0 & 0 & 0 & 0 & 0\\\\\n",
       "\\end{tabular}\n"
      ],
      "text/markdown": [
       "\n",
       "A matrix: 1 × 17 of type dbl\n",
       "\n",
       "| 0 | 0 | 0 | 0 | 0 | 0 | 0 | 0 | 0 | 0 | 0 | 0 | 0 | 0 | 0 | 0 | 0 |\n",
       "\n"
      ],
      "text/plain": [
       "     [,1] [,2] [,3] [,4] [,5] [,6] [,7] [,8] [,9] [,10] [,11] [,12] [,13] [,14]\n",
       "[1,] 0    0    0    0    0    0    0    0    0    0     0     0     0     0    \n",
       "     [,15] [,16] [,17]\n",
       "[1,] 0     0     0    "
      ]
     },
     "metadata": {},
     "output_type": "display_data"
    }
   ],
   "source": [
    " std_coor"
   ]
  },
  {
   "cell_type": "code",
   "execution_count": 94,
   "metadata": {
    "vscode": {
     "languageId": "r"
    }
   },
   "outputs": [
    {
     "data": {
      "text/html": [
       "1490.01589570403"
      ],
      "text/latex": [
       "1490.01589570403"
      ],
      "text/markdown": [
       "1490.01589570403"
      ],
      "text/plain": [
       "[1] 1490.016"
      ]
     },
     "metadata": {},
     "output_type": "display_data"
    },
    {
     "data": {
      "text/html": [
       "1548.25818406979"
      ],
      "text/latex": [
       "1548.25818406979"
      ],
      "text/markdown": [
       "1548.25818406979"
      ],
      "text/plain": [
       "[1] 1548.258"
      ]
     },
     "metadata": {},
     "output_type": "display_data"
    }
   ],
   "source": [
    "mean(m1_arr)\n",
    "mean_m1 <- matrix(0,ncol=8)\n",
    "std_m1  <- matrix(0,ncol=8)\n",
    "for(i in seq(1:8)){\n",
    "    mean_m1[i] <- mean(m1_arr[,i])\n",
    "    std_m1[i]  <- std(m1_arr[,i])\n",
    "}\n",
    "\n",
    "\n",
    "mean(m2_arr)\n",
    "mean_m2 <- matrix(0,ncol=8)\n",
    "std_m2  <- matrix(0,ncol=8)\n",
    "for(i in seq(1:8)){\n",
    "    mean_m2[i] <- mean(m2_arr[,i])\n",
    "    std_m2[i]  <- std(m2_arr[,i])\n",
    "}"
   ]
  },
  {
   "cell_type": "code",
   "execution_count": 95,
   "metadata": {
    "vscode": {
     "languageId": "r"
    }
   },
   "outputs": [
    {
     "data": {
      "text/html": [
       "<table class=\"dataframe\">\n",
       "<caption>A matrix: 1 × 8 of type dbl</caption>\n",
       "<tbody>\n",
       "\t<tr><td>4806.577</td><td>3556.196</td><td>2233.537</td><td>264.6095</td><td>264.5661</td><td>264.5493</td><td>265.5409</td><td>264.5517</td></tr>\n",
       "</tbody>\n",
       "</table>\n"
      ],
      "text/latex": [
       "A matrix: 1 × 8 of type dbl\n",
       "\\begin{tabular}{llllllll}\n",
       "\t 4806.577 & 3556.196 & 2233.537 & 264.6095 & 264.5661 & 264.5493 & 265.5409 & 264.5517\\\\\n",
       "\\end{tabular}\n"
      ],
      "text/markdown": [
       "\n",
       "A matrix: 1 × 8 of type dbl\n",
       "\n",
       "| 4806.577 | 3556.196 | 2233.537 | 264.6095 | 264.5661 | 264.5493 | 265.5409 | 264.5517 |\n",
       "\n"
      ],
      "text/plain": [
       "     [,1]     [,2]     [,3]     [,4]     [,5]     [,6]     [,7]     [,8]    \n",
       "[1,] 4806.577 3556.196 2233.537 264.6095 264.5661 264.5493 265.5409 264.5517"
      ]
     },
     "metadata": {},
     "output_type": "display_data"
    },
    {
     "data": {
      "text/html": [
       "<table class=\"dataframe\">\n",
       "<caption>A matrix: 1 × 8 of type dbl</caption>\n",
       "<tbody>\n",
       "\t<tr><td>0</td><td>0</td><td>0</td><td>0</td><td>0</td><td>0</td><td>0</td><td>0</td></tr>\n",
       "</tbody>\n",
       "</table>\n"
      ],
      "text/latex": [
       "A matrix: 1 × 8 of type dbl\n",
       "\\begin{tabular}{llllllll}\n",
       "\t 0 & 0 & 0 & 0 & 0 & 0 & 0 & 0\\\\\n",
       "\\end{tabular}\n"
      ],
      "text/markdown": [
       "\n",
       "A matrix: 1 × 8 of type dbl\n",
       "\n",
       "| 0 | 0 | 0 | 0 | 0 | 0 | 0 | 0 |\n",
       "\n"
      ],
      "text/plain": [
       "     [,1] [,2] [,3] [,4] [,5] [,6] [,7] [,8]\n",
       "[1,] 0    0    0    0    0    0    0    0   "
      ]
     },
     "metadata": {},
     "output_type": "display_data"
    }
   ],
   "source": [
    "mean_m1\n",
    "std_m1"
   ]
  },
  {
   "cell_type": "code",
   "execution_count": 96,
   "metadata": {
    "vscode": {
     "languageId": "r"
    }
   },
   "outputs": [
    {
     "data": {
      "text/html": [
       "<table class=\"dataframe\">\n",
       "<caption>A matrix: 1 × 8 of type dbl</caption>\n",
       "<tbody>\n",
       "\t<tr><td>4989.896</td><td>3741.406</td><td>2289.805</td><td>272.7046</td><td>272.7023</td><td>272.6796</td><td>274.1836</td><td>272.6889</td></tr>\n",
       "</tbody>\n",
       "</table>\n"
      ],
      "text/latex": [
       "A matrix: 1 × 8 of type dbl\n",
       "\\begin{tabular}{llllllll}\n",
       "\t 4989.896 & 3741.406 & 2289.805 & 272.7046 & 272.7023 & 272.6796 & 274.1836 & 272.6889\\\\\n",
       "\\end{tabular}\n"
      ],
      "text/markdown": [
       "\n",
       "A matrix: 1 × 8 of type dbl\n",
       "\n",
       "| 4989.896 | 3741.406 | 2289.805 | 272.7046 | 272.7023 | 272.6796 | 274.1836 | 272.6889 |\n",
       "\n"
      ],
      "text/plain": [
       "     [,1]     [,2]     [,3]     [,4]     [,5]     [,6]     [,7]     [,8]    \n",
       "[1,] 4989.896 3741.406 2289.805 272.7046 272.7023 272.6796 274.1836 272.6889"
      ]
     },
     "metadata": {},
     "output_type": "display_data"
    },
    {
     "data": {
      "text/html": [
       "<table class=\"dataframe\">\n",
       "<caption>A matrix: 1 × 8 of type dbl</caption>\n",
       "<tbody>\n",
       "\t<tr><td>0</td><td>0</td><td>0</td><td>0</td><td>0</td><td>0</td><td>0</td><td>0</td></tr>\n",
       "</tbody>\n",
       "</table>\n"
      ],
      "text/latex": [
       "A matrix: 1 × 8 of type dbl\n",
       "\\begin{tabular}{llllllll}\n",
       "\t 0 & 0 & 0 & 0 & 0 & 0 & 0 & 0\\\\\n",
       "\\end{tabular}\n"
      ],
      "text/markdown": [
       "\n",
       "A matrix: 1 × 8 of type dbl\n",
       "\n",
       "| 0 | 0 | 0 | 0 | 0 | 0 | 0 | 0 |\n",
       "\n"
      ],
      "text/plain": [
       "     [,1] [,2] [,3] [,4] [,5] [,6] [,7] [,8]\n",
       "[1,] 0    0    0    0    0    0    0    0   "
      ]
     },
     "metadata": {},
     "output_type": "display_data"
    }
   ],
   "source": [
    "mean_m2\n",
    "std_m2"
   ]
  },
  {
   "cell_type": "code",
   "execution_count": null,
   "metadata": {
    "vscode": {
     "languageId": "r"
    }
   },
   "outputs": [],
   "source": []
  }
 ],
 "metadata": {
  "kernelspec": {
   "display_name": "R",
   "language": "R",
   "name": "ir"
  },
  "language_info": {
   "codemirror_mode": "r",
   "file_extension": ".r",
   "mimetype": "text/x-r-source",
   "name": "R",
   "pygments_lexer": "r",
   "version": "4.1.1"
  },
  "orig_nbformat": 4,
  "vscode": {
   "interpreter": {
    "hash": "070818eb8bdae76baf48ec7217d6f0c37cde9d8f0f1827fd900f76db643752ca"
   }
  }
 },
 "nbformat": 4,
 "nbformat_minor": 2
}
