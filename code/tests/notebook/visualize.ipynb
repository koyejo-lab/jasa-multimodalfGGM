{
 "cells": [
  {
   "cell_type": "code",
   "execution_count": 136,
   "metadata": {
    "vscode": {
     "languageId": "r"
    }
   },
   "outputs": [],
   "source": [
    "library(pracma)\n",
    "library(matrixcalc)\n",
    "library(fields)\n",
    "library('latex2exp')\n",
    "library(Matrix)\n",
    "library(igraph)\n",
    "#load source file\n",
    "src.path <- \"../../src\"\n",
    "source(paste(src.path, \"DataGenerationProcess\", \"synth_basis.R\", sep=\"/\"))\n",
    "source(paste(src.path, \"DataGenerationProcess\", \"synth_data.R\", sep=\"/\"))\n",
    "source(paste(src.path, \"DataGenerationProcess\", \"synth_graph.R\", sep=\"/\"))\n",
    "source(paste(src.path, \"DataGenerationProcess\", \"synth_linearop.R\", sep=\"/\"))\n",
    "\n",
    "source(paste(src.path, \"Estimation\", \"basis_estimation.R\", sep=\"/\"))\n",
    "source(paste(src.path, \"Utility\", \"utility.R\", sep=\"/\"))\n",
    "source(paste(src.path, \"Estimation\", \"cca_estimation.R\", sep=\"/\"))\n",
    "source(paste(src.path, \"Utility\", \"R2python.R\", sep=\"/\"))"
   ]
  },
  {
   "cell_type": "code",
   "execution_count": 181,
   "metadata": {
    "vscode": {
     "languageId": "r"
    }
   },
   "outputs": [],
   "source": [
    "n <- 2\n",
    "p <- 10\n",
    "k.gen <- 11\n",
    "M <- 3\n",
    "obs.time <- seq(0,1,1/50)\n",
    "\n",
    "cov_name <- 'random'"
   ]
  },
  {
   "cell_type": "code",
   "execution_count": 182,
   "metadata": {
    "vscode": {
     "languageId": "r"
    }
   },
   "outputs": [
    {
     "name": "stdout",
     "output_type": "stream",
     "text": [
      "[1] \"Generating data from modality 1\"\n",
      "[1] \"Generating data from modality 2\"\n",
      "[1] \"Generating data from modality 3\"\n",
      "[1] \"Generating data from modality 1\"\n",
      "[1] \"Generating data from modality 2\"\n",
      "[1] \"Generating data from modality 3\"\n"
     ]
    }
   ],
   "source": [
    "km.gen <- c(11,11,11)\n",
    "\n",
    "Apinv_list <- list()\n",
    "A_list <- list()\n",
    "N_list <- list()\n",
    "basis.m_list <- list()\n",
    "true.basis_list <- list()\n",
    "true.values_list <- list()\n",
    "\n",
    "\n",
    "\n",
    "if (cov_name == \"random\"){\n",
    "    omega <- synth.omega.random(p, k.gen, drop=0.3)\n",
    "}\n",
    "if (cov_name == \"power\"){\n",
    "    omega <- synth.omega.power(p, k.gen)\n",
    "    #omega <- solve(omega)\n",
    "}\n",
    "if (cov_name == \"tridiag1\"){\n",
    "    omega <- synth.omega.tridiag1(p, k.gen)\n",
    "}\n",
    "if (cov_name == \"tridiag2\"){\n",
    "    omega <- synth.omega.tridiag2(p, k.gen)\n",
    "}\n",
    "if (cov_name == \"tridiag3\"){\n",
    "    omega <- synth.omega.tridiag3(p, k.gen)\n",
    "}\n",
    "\n",
    "#ensure that the diagonal values are all 1\n",
    "\n",
    "G.true <- matrix(0, p, p) # p by p adjacency matrix\n",
    "for(i in 1:p){\n",
    "  for(j in 1:p){\n",
    "    if(sum(abs(omega[((i-1)*k.gen+1):(i*k.gen), ((j-1)*k.gen+1):(j*k.gen)])) > 0)\n",
    "      G.true[i,j] <- 1\n",
    "  }\n",
    "}\n",
    "\n",
    "cov <- solve(omega)\n",
    "\n",
    "\n",
    "for(m in 1:M){\n",
    "    Am <- synth.linear_op.sparse_orthogonal(k.gen, km.gen[m], k.gen, scale=.2)\n",
    "    Am <- t(t(Am) %*% diag(.2*((1:k.gen))+1)) #this is to make the singular values distinct\n",
    "    #Am <- diag(.2*((1:k.gen)))\n",
    "    A_list[[m]] <- Am\n",
    "    Apinv_list[[m]] <- solve(Am)\n",
    "}\n",
    "\n",
    "for(m in 1:M){\n",
    "    \n",
    "    #noise covariance\n",
    "    N_list[[m]] <- diag(p*km.gen[m])*0.5\n",
    "    basis.m_list[[m]] <- synth.fourier.bases.m(obs.time, km.gen[m])\n",
    "    if(m == 2){\n",
    "         basis.m_list[[m]] <- synth.bspline.bases.m(obs.time, km.gen[m])\n",
    "    }\n",
    "}\n",
    "\n",
    "#convert to regression B\n",
    "B_list <- utility.graph2B(omega,p)\n",
    "# save true graphs\n",
    "\n",
    "\n",
    "#generate data \n",
    "set.seed(1)\n",
    "data <- synth.data_from_graph(n, p, cov, basis.m_list, Apinv_list,N_list, dependent=TRUE, addnoise=FALSE)\n",
    "\n",
    "for(m in 1:M){\n",
    "    \n",
    "    #noise covariance\n",
    "    N_list[[m]] <- diag(p*km.gen[m])*0.0\n",
    "}\n",
    "set.seed(1)\n",
    "noiseless_data <- synth.data_from_graph(n, p, cov, basis.m_list, Apinv_list,N_list, dependent=TRUE, addnoise=FALSE)"
   ]
  },
  {
   "cell_type": "code",
   "execution_count": 183,
   "metadata": {
    "vscode": {
     "languageId": "r"
    }
   },
   "outputs": [
    {
     "data": {
      "text/html": [
       "3"
      ],
      "text/latex": [
       "3"
      ],
      "text/markdown": [
       "3"
      ],
      "text/plain": [
       "[1] 3"
      ]
     },
     "metadata": {},
     "output_type": "display_data"
    }
   ],
   "source": [
    "length(data )"
   ]
  },
  {
   "cell_type": "code",
   "execution_count": 208,
   "metadata": {
    "vscode": {
     "languageId": "r"
    }
   },
   "outputs": [
    {
     "data": {
      "text/html": [
       "<strong>pdf:</strong> 2"
      ],
      "text/latex": [
       "\\textbf{pdf:} 2"
      ],
      "text/markdown": [
       "**pdf:** 2"
      ],
      "text/plain": [
       "pdf \n",
       "  2 "
      ]
     },
     "metadata": {},
     "output_type": "display_data"
    },
    {
     "data": {
      "text/html": [
       "<strong>pdf:</strong> 2"
      ],
      "text/latex": [
       "\\textbf{pdf:} 2"
      ],
      "text/markdown": [
       "**pdf:** 2"
      ],
      "text/plain": [
       "pdf \n",
       "  2 "
      ]
     },
     "metadata": {},
     "output_type": "display_data"
    },
    {
     "data": {
      "text/html": [
       "<strong>pdf:</strong> 2"
      ],
      "text/latex": [
       "\\textbf{pdf:} 2"
      ],
      "text/markdown": [
       "**pdf:** 2"
      ],
      "text/plain": [
       "pdf \n",
       "  2 "
      ]
     },
     "metadata": {},
     "output_type": "display_data"
    },
    {
     "data": {
      "text/html": [
       "<strong>pdf:</strong> 2"
      ],
      "text/latex": [
       "\\textbf{pdf:} 2"
      ],
      "text/markdown": [
       "**pdf:** 2"
      ],
      "text/plain": [
       "pdf \n",
       "  2 "
      ]
     },
     "metadata": {},
     "output_type": "display_data"
    },
    {
     "data": {
      "text/html": [
       "<strong>pdf:</strong> 2"
      ],
      "text/latex": [
       "\\textbf{pdf:} 2"
      ],
      "text/markdown": [
       "**pdf:** 2"
      ],
      "text/plain": [
       "pdf \n",
       "  2 "
      ]
     },
     "metadata": {},
     "output_type": "display_data"
    },
    {
     "data": {
      "text/html": [
       "<strong>pdf:</strong> 2"
      ],
      "text/latex": [
       "\\textbf{pdf:} 2"
      ],
      "text/markdown": [
       "**pdf:** 2"
      ],
      "text/plain": [
       "pdf \n",
       "  2 "
      ]
     },
     "metadata": {},
     "output_type": "display_data"
    },
    {
     "data": {
      "text/html": [
       "<strong>pdf:</strong> 2"
      ],
      "text/latex": [
       "\\textbf{pdf:} 2"
      ],
      "text/markdown": [
       "**pdf:** 2"
      ],
      "text/plain": [
       "pdf \n",
       "  2 "
      ]
     },
     "metadata": {},
     "output_type": "display_data"
    },
    {
     "data": {
      "text/html": [
       "<strong>pdf:</strong> 2"
      ],
      "text/latex": [
       "\\textbf{pdf:} 2"
      ],
      "text/markdown": [
       "**pdf:** 2"
      ],
      "text/plain": [
       "pdf \n",
       "  2 "
      ]
     },
     "metadata": {},
     "output_type": "display_data"
    },
    {
     "data": {
      "text/html": [
       "<strong>pdf:</strong> 2"
      ],
      "text/latex": [
       "\\textbf{pdf:} 2"
      ],
      "text/markdown": [
       "**pdf:** 2"
      ],
      "text/plain": [
       "pdf \n",
       "  2 "
      ]
     },
     "metadata": {},
     "output_type": "display_data"
    }
   ],
   "source": [
    "#par(bg='white')\n",
    "y = data[[1]][2,1,] + rnorm(51, 0,1)\n",
    "min_y = min(noiseless_data[[1]][2,1,], data[[1]][2,1,])\n",
    "max_y = max(noiseless_data[[1]][2,1,], data[[1]][2,1,])\n",
    "tiff('M1_node1.tiff',  units=\"in\", width=5, height=5, res=600)\n",
    "plot(1, ylim=c(min_y-1,max_y+1), xlim=c(0,1), type=\"n\", xlab='', ylab='', cex.lab=1.5, xaxt='n', yaxt='n')\n",
    "lines(obs.time, noiseless_data[[1]][2,1,], col=\"black\", lwd=2,  lty = \"dashed\")\n",
    "lines(obs.time, data[[1]][2,1,], col=\"green\", lwd=2)\n",
    "title('Node 1', cex.main=2.5,line=0.5)#, ylab=TeX(r'($Y_{1,1}(t)$)'), cex.lab=2.5)\n",
    "dev.off()\n",
    "\n",
    "#par(bg='white')\n",
    "min_y = min(noiseless_data[[2]][2,1,], data[[2]][2,1,])\n",
    "max_y = max(noiseless_data[[2]][2,1,], data[[2]][2,1,])\n",
    "tiff('M2_node1.tiff',  units=\"in\", width=5, height=5, res=600)\n",
    "plot(1, ylim=c(min_y-1,max_y+1), xlim=c(0,1), type=\"n\", xlab='', ylab='', cex.lab=1.5, xaxt='n', yaxt='n')\n",
    "lines(obs.time, noiseless_data[[2]][2,1,], col=\"black\", lwd=2,  lty = \"dashed\")\n",
    "lines(obs.time, data[[2]][2,1,], col=\"blue\", lwd=2)\n",
    "title('Node 1', cex.main=2.5,line=0.5)#, ylab=TeX(r'($Y_{2,1}(t)$)'), cex.lab=2.5)\n",
    "dev.off()\n",
    "\n",
    "#par(bg='white')\n",
    "min_y = min(noiseless_data[[3]][2,1,], data[[3]][2,1,])\n",
    "max_y = max(noiseless_data[[3]][2,1,], data[[3]][2,1,])\n",
    "tiff('M3_node1.tiff',  units=\"in\", width=5, height=5, res=600)\n",
    "plot(1, ylim=c(min_y-1,max_y+1), xlim=c(0,1), type=\"n\", xlab='', ylab='', cex.lab=1.5, xaxt='n', yaxt='n')\n",
    "lines(obs.time, noiseless_data[[3]][2,1,], col=\"black\", lwd=2,  lty = \"dashed\")\n",
    "lines(obs.time, data[[3]][2,1,], col=\"red\", lwd=2)\n",
    "title('Node 1', cex.main=2.5,line=0.5)#, xlab='time', ylab=TeX(r'($Y_{M,1}(t)$)'), cex.lab=2.5)\n",
    "dev.off()\n",
    "\n",
    "\n",
    "\n",
    "\n",
    "#par(bg='white')\n",
    "min_y = min(noiseless_data[[1]][2,2,], data[[1]][2,2,])\n",
    "max_y = max(noiseless_data[[1]][2,2,], data[[1]][2,2,])\n",
    "tiff('M1_node2.tiff',  units=\"in\", width=5, height=5, res=600)\n",
    "plot(1, ylim=c(min_y-1,max_y+1), xlim=c(0,1), type=\"n\", xlab='', ylab='', cex.lab=1.5, xaxt='n', yaxt='n')\n",
    "lines(obs.time, noiseless_data[[1]][2,2,], col=\"black\", lwd=2,  lty = \"dashed\")\n",
    "lines(obs.time, data[[1]][2,2,], col=\"green\", lwd=2)\n",
    "title('Node 2', cex.main=2.5,line=0.5)#, ylab=TeX(r'($Y_{1,2}(t)$)'), cex.lab=2.5)\n",
    "dev.off()\n",
    "\n",
    "#par(bg='white')\n",
    "min_y = min(noiseless_data[[2]][2,2,], data[[2]][2,2,])\n",
    "max_y = max(noiseless_data[[2]][2,2,], data[[2]][2,2,])\n",
    "tiff('M2_node2.tiff',  units=\"in\", width=5, height=5, res=600)\n",
    "plot(1, ylim=c(min_y-1,max_y+1), xlim=c(0,1), type=\"n\", xlab='', ylab='', cex.lab=1.5, xaxt='n', yaxt='n')\n",
    "lines(obs.time, noiseless_data[[2]][2,2,], col=\"black\", lwd=2,  lty = \"dashed\")\n",
    "lines(obs.time, data[[2]][2,2,], col=\"blue\", lwd=2)\n",
    "title('Node 2', cex.main=2.5,line=0.5)#, ylab=TeX(r'($Y_{2,2}(t)$)'), cex.lab=2.5)\n",
    "dev.off()\n",
    "\n",
    "#par(bg='white')\n",
    "min_y = min(noiseless_data[[3]][2,2,], data[[3]][2,2,])\n",
    "max_y = max(noiseless_data[[3]][2,2,], data[[3]][2,2,])\n",
    "tiff('M3_node2.tiff',  units=\"in\", width=5, height=5, res=600)\n",
    "plot(1, ylim=c(min_y-1,max_y+1), xlim=c(0,1), type=\"n\", xlab='', ylab='', cex.lab=1.5, xaxt='n', yaxt='n')\n",
    "lines(obs.time, noiseless_data[[3]][2,2,], col=\"black\", lwd=2,  lty = \"dashed\")\n",
    "lines(obs.time, data[[3]][2,2,], col=\"red\", lwd=2)\n",
    "title('Node 2', cex.main=2.5,line=0.5)#,xlab='time', ylab=TeX(r'($Y_{M,2}(t)$)'), cex.lab=2.5)\n",
    "dev.off()\n",
    "\n",
    "\n",
    "\n",
    "\n",
    "\n",
    "#par(bg='white')\n",
    "min_y = min(noiseless_data[[1]][2,10,], data[[1]][2,10,])\n",
    "max_y = max(noiseless_data[[1]][2,10,], data[[1]][2,10,])\n",
    "tiff('M1_node10.tiff',  units=\"in\", width=5, height=5, res=600)\n",
    "plot(1, ylim=c(min_y-1,max_y+1), xlim=c(0,1), type=\"n\", xlab='', ylab='', cex.lab=1.5, xaxt='n', yaxt='n')\n",
    "lines(obs.time, noiseless_data[[1]][2,10,], col=\"black\", lwd=2,  lty = \"dashed\")\n",
    "lines(obs.time, data[[1]][2,10,], col=\"green\", lwd=2)\n",
    "title('Node 10', cex.main=2.5,line=0.5)#, ylab=TeX(r'($Y_{1,10}(t)$)'), cex.lab=2.5)\n",
    "dev.off()\n",
    "\n",
    "#par(bg='white')\n",
    "min_y = min(noiseless_data[[2]][2,10,], data[[2]][2,10,])\n",
    "max_y = max(noiseless_data[[2]][2,10,], data[[2]][2,10,])\n",
    "tiff('M2_node10.tiff', units=\"in\", width=5, height=5, res=600)\n",
    "plot(1, ylim=c(min_y-1,max_y+1), xlim=c(0,1), type=\"n\", xlab='', ylab='', cex.lab=1.5, xaxt='n', yaxt='n')\n",
    "lines(obs.time, noiseless_data[[2]][2,10,], col=\"black\", lwd=2,  lty = \"dashed\")\n",
    "lines(obs.time, data[[2]][2,10,], col=\"blue\", lwd=2)\n",
    "title('Node 10', cex.main=2.5,line=0.5)#, ylab=TeX(r'($Y_{2,10}(t)$)'), cex.lab=2.5)\n",
    "dev.off()\n",
    "\n",
    "#par(bg='white')\n",
    "min_y = min(noiseless_data[[3]][2,10,], data[[3]][2,10,])\n",
    "max_y = max(noiseless_data[[3]][2,10,], data[[3]][2,10,])\n",
    "tiff('M3_node10.tiff',  units=\"in\", width=5, height=5, res=600)\n",
    "plot(1, ylim=c(min_y-1,max_y+1), xlim=c(0,1), type=\"n\", xlab='', ylab='', cex.lab=1.5, xaxt='n', yaxt='n')\n",
    "lines(obs.time, noiseless_data[[3]][2,10,], col=\"black\", lwd=2,  lty = \"dashed\")\n",
    "lines(obs.time, data[[3]][2,10,], col=\"red\", lwd=2)\n",
    "title('Node 10', cex.main=2.5,line=0.5)#,xlab='time', ylab=TeX(r'($Y_{M,10}(t)$)'), cex.lab=2.5)\n",
    "dev.off()"
   ]
  },
  {
   "cell_type": "code",
   "execution_count": 141,
   "metadata": {
    "vscode": {
     "languageId": "r"
    }
   },
   "outputs": [
    {
     "name": "stdout",
     "output_type": "stream",
     "text": [
      "      [,1] [,2] [,3] [,4] [,5] [,6] [,7] [,8] [,9] [,10]\n",
      " [1,]    0    0    0    0    0    1    0    1    0     0\n",
      " [2,]    0    0    0    1    0    1    0    0    1     0\n",
      " [3,]    0    0    0    0    0    1    1    0    1     0\n",
      " [4,]    0    1    0    0    0    0    1    0    0     0\n",
      " [5,]    0    0    0    0    0    0    0    0    0     0\n",
      " [6,]    1    1    1    0    0    0    0    0    1     0\n",
      " [7,]    0    0    1    1    0    0    0    1    0     1\n",
      " [8,]    1    0    0    0    0    0    1    0    1     0\n",
      " [9,]    0    1    1    0    0    1    0    1    0     0\n",
      "[10,]    0    0    0    0    0    0    1    0    0     0\n"
     ]
    }
   ],
   "source": [
    "adj <- matrix(0,p,p)\n",
    "for(i in 1:p){\n",
    "    for(j in 1:p){\n",
    "        if(i != j){\n",
    "            xidx <- ((i-1)*k.gen+1):(i*k.gen)\n",
    "            yidx <- ((j-1)*k.gen+1):(j*k.gen)\n",
    "            subm <- norm(omega[xidx, yidx])\n",
    "            if(subm>0) adj[i,j] <- 1\n",
    "        }\n",
    "    }\n",
    "}\n",
    "\n",
    "print(adj)"
   ]
  },
  {
   "cell_type": "code",
   "execution_count": 207,
   "metadata": {
    "vscode": {
     "languageId": "r"
    }
   },
   "outputs": [
    {
     "data": {
      "text/html": [
       "<strong>pdf:</strong> 2"
      ],
      "text/latex": [
       "\\textbf{pdf:} 2"
      ],
      "text/markdown": [
       "**pdf:** 2"
      ],
      "text/plain": [
       "pdf \n",
       "  2 "
      ]
     },
     "metadata": {},
     "output_type": "display_data"
    }
   ],
   "source": [
    "network <- graph_from_adjacency_matrix(adj , mode='undirected', diag=F )\n",
    "#par(bg='white')\n",
    "\n",
    "tiff(\"latent_graph.tiff\", units=\"in\", width=5, height=5, res=600)\n",
    "plot(network, layout=layout.circle)\n",
    "title('Latent Graph', cex.main=2.5)\n",
    "\n",
    "dev.off()\n"
   ]
  },
  {
   "cell_type": "code",
   "execution_count": null,
   "metadata": {
    "vscode": {
     "languageId": "r"
    }
   },
   "outputs": [],
   "source": []
  }
 ],
 "metadata": {
  "kernelspec": {
   "display_name": "R",
   "language": "R",
   "name": "ir"
  },
  "language_info": {
   "codemirror_mode": "r",
   "file_extension": ".r",
   "mimetype": "text/x-r-source",
   "name": "R",
   "pygments_lexer": "r",
   "version": "4.0.3"
  },
  "orig_nbformat": 4
 },
 "nbformat": 4,
 "nbformat_minor": 2
}
